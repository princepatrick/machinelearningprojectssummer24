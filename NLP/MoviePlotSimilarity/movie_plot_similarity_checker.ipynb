{
 "cells": [
  {
   "cell_type": "markdown",
   "metadata": {},
   "source": [
    "Step 1: Import the libraries"
   ]
  },
  {
   "cell_type": "code",
   "execution_count": 1,
   "metadata": {},
   "outputs": [
    {
     "name": "stderr",
     "output_type": "stream",
     "text": [
      "[nltk_data] Downloading package punkt to\n",
      "[nltk_data]     C:\\Users\\princ\\AppData\\Roaming\\nltk_data...\n",
      "[nltk_data]   Package punkt is already up-to-date!\n",
      "[nltk_data] Downloading package averaged_perceptron_tagger to\n",
      "[nltk_data]     C:\\Users\\princ\\AppData\\Roaming\\nltk_data...\n",
      "[nltk_data]   Package averaged_perceptron_tagger is already up-to-\n",
      "[nltk_data]       date!\n",
      "[nltk_data] Downloading package stopwords to\n",
      "[nltk_data]     C:\\Users\\princ\\AppData\\Roaming\\nltk_data...\n",
      "[nltk_data]   Package stopwords is already up-to-date!\n"
     ]
    },
    {
     "data": {
      "text/plain": [
       "True"
      ]
     },
     "execution_count": 1,
     "metadata": {},
     "output_type": "execute_result"
    }
   ],
   "source": [
    "import pandas as pd \n",
    "import numpy as np \n",
    "import nltk\n",
    "from nltk.corpus import stopwords\n",
    "from nltk.stem import PorterStemmer\n",
    "from nltk.tokenize import sent_tokenize\n",
    "from nltk.tokenize import word_tokenize\n",
    "\n",
    "nltk.download('punkt')\n",
    "nltk.download('averaged_perceptron_tagger')\n",
    "from nltk import pos_tag\n",
    "\n",
    "nltk.download('stopwords')"
   ]
  },
  {
   "cell_type": "markdown",
   "metadata": {},
   "source": [
    "Step 2: Load the datasets"
   ]
  },
  {
   "cell_type": "code",
   "execution_count": 2,
   "metadata": {},
   "outputs": [],
   "source": [
    "movie_df = pd.read_csv(\"C:\\\\Users\\\\princ\\\\Documents\\\\Machine Learning Projects\\\\Summer 24\\\\Natural Language Processing\\\\Movie Plot Similarity using IMDB dataset\\\\wiki_movie_plots_deduped.csv\")"
   ]
  },
  {
   "cell_type": "markdown",
   "metadata": {},
   "source": [
    "Step 3: Preprocess the Summaries"
   ]
  },
  {
   "cell_type": "code",
   "execution_count": 5,
   "metadata": {},
   "outputs": [
    {
     "data": {
      "text/html": [
       "<div>\n",
       "<style scoped>\n",
       "    .dataframe tbody tr th:only-of-type {\n",
       "        vertical-align: middle;\n",
       "    }\n",
       "\n",
       "    .dataframe tbody tr th {\n",
       "        vertical-align: top;\n",
       "    }\n",
       "\n",
       "    .dataframe thead th {\n",
       "        text-align: right;\n",
       "    }\n",
       "</style>\n",
       "<table border=\"1\" class=\"dataframe\">\n",
       "  <thead>\n",
       "    <tr style=\"text-align: right;\">\n",
       "      <th></th>\n",
       "      <th>Release Year</th>\n",
       "      <th>Title</th>\n",
       "      <th>Origin/Ethnicity</th>\n",
       "      <th>Director</th>\n",
       "      <th>Cast</th>\n",
       "      <th>Genre</th>\n",
       "      <th>Wiki Page</th>\n",
       "      <th>Plot</th>\n",
       "    </tr>\n",
       "  </thead>\n",
       "  <tbody>\n",
       "    <tr>\n",
       "      <th>0</th>\n",
       "      <td>1901</td>\n",
       "      <td>Kansas Saloon Smashers</td>\n",
       "      <td>American</td>\n",
       "      <td>Unknown</td>\n",
       "      <td>NaN</td>\n",
       "      <td>unknown</td>\n",
       "      <td>https://en.wikipedia.org/wiki/Kansas_Saloon_Sm...</td>\n",
       "      <td>A bartender is working at a saloon, serving dr...</td>\n",
       "    </tr>\n",
       "    <tr>\n",
       "      <th>1</th>\n",
       "      <td>1901</td>\n",
       "      <td>Love by the Light of the Moon</td>\n",
       "      <td>American</td>\n",
       "      <td>Unknown</td>\n",
       "      <td>NaN</td>\n",
       "      <td>unknown</td>\n",
       "      <td>https://en.wikipedia.org/wiki/Love_by_the_Ligh...</td>\n",
       "      <td>The moon, painted with a smiling face hangs ov...</td>\n",
       "    </tr>\n",
       "    <tr>\n",
       "      <th>2</th>\n",
       "      <td>1901</td>\n",
       "      <td>The Martyred Presidents</td>\n",
       "      <td>American</td>\n",
       "      <td>Unknown</td>\n",
       "      <td>NaN</td>\n",
       "      <td>unknown</td>\n",
       "      <td>https://en.wikipedia.org/wiki/The_Martyred_Pre...</td>\n",
       "      <td>The film, just over a minute long, is composed...</td>\n",
       "    </tr>\n",
       "    <tr>\n",
       "      <th>3</th>\n",
       "      <td>1901</td>\n",
       "      <td>Terrible Teddy, the Grizzly King</td>\n",
       "      <td>American</td>\n",
       "      <td>Unknown</td>\n",
       "      <td>NaN</td>\n",
       "      <td>unknown</td>\n",
       "      <td>https://en.wikipedia.org/wiki/Terrible_Teddy,_...</td>\n",
       "      <td>Lasting just 61 seconds and consisting of two ...</td>\n",
       "    </tr>\n",
       "    <tr>\n",
       "      <th>4</th>\n",
       "      <td>1902</td>\n",
       "      <td>Jack and the Beanstalk</td>\n",
       "      <td>American</td>\n",
       "      <td>George S. Fleming, Edwin S. Porter</td>\n",
       "      <td>NaN</td>\n",
       "      <td>unknown</td>\n",
       "      <td>https://en.wikipedia.org/wiki/Jack_and_the_Bea...</td>\n",
       "      <td>The earliest known adaptation of the classic f...</td>\n",
       "    </tr>\n",
       "  </tbody>\n",
       "</table>\n",
       "</div>"
      ],
      "text/plain": [
       "   Release Year                             Title Origin/Ethnicity  \\\n",
       "0          1901            Kansas Saloon Smashers         American   \n",
       "1          1901     Love by the Light of the Moon         American   \n",
       "2          1901           The Martyred Presidents         American   \n",
       "3          1901  Terrible Teddy, the Grizzly King         American   \n",
       "4          1902            Jack and the Beanstalk         American   \n",
       "\n",
       "                             Director Cast    Genre  \\\n",
       "0                             Unknown  NaN  unknown   \n",
       "1                             Unknown  NaN  unknown   \n",
       "2                             Unknown  NaN  unknown   \n",
       "3                             Unknown  NaN  unknown   \n",
       "4  George S. Fleming, Edwin S. Porter  NaN  unknown   \n",
       "\n",
       "                                           Wiki Page  \\\n",
       "0  https://en.wikipedia.org/wiki/Kansas_Saloon_Sm...   \n",
       "1  https://en.wikipedia.org/wiki/Love_by_the_Ligh...   \n",
       "2  https://en.wikipedia.org/wiki/The_Martyred_Pre...   \n",
       "3  https://en.wikipedia.org/wiki/Terrible_Teddy,_...   \n",
       "4  https://en.wikipedia.org/wiki/Jack_and_the_Bea...   \n",
       "\n",
       "                                                Plot  \n",
       "0  A bartender is working at a saloon, serving dr...  \n",
       "1  The moon, painted with a smiling face hangs ov...  \n",
       "2  The film, just over a minute long, is composed...  \n",
       "3  Lasting just 61 seconds and consisting of two ...  \n",
       "4  The earliest known adaptation of the classic f...  "
      ]
     },
     "execution_count": 5,
     "metadata": {},
     "output_type": "execute_result"
    }
   ],
   "source": [
    "movie_df.head(5)"
   ]
  },
  {
   "cell_type": "code",
   "execution_count": 6,
   "metadata": {},
   "outputs": [],
   "source": [
    "movie_df = movie_df[ movie_df['Release Year'] >= 2017 ].reset_index()"
   ]
  },
  {
   "cell_type": "code",
   "execution_count": 7,
   "metadata": {},
   "outputs": [
    {
     "data": {
      "text/html": [
       "<div>\n",
       "<style scoped>\n",
       "    .dataframe tbody tr th:only-of-type {\n",
       "        vertical-align: middle;\n",
       "    }\n",
       "\n",
       "    .dataframe tbody tr th {\n",
       "        vertical-align: top;\n",
       "    }\n",
       "\n",
       "    .dataframe thead th {\n",
       "        text-align: right;\n",
       "    }\n",
       "</style>\n",
       "<table border=\"1\" class=\"dataframe\">\n",
       "  <thead>\n",
       "    <tr style=\"text-align: right;\">\n",
       "      <th></th>\n",
       "      <th>index</th>\n",
       "      <th>Release Year</th>\n",
       "      <th>Title</th>\n",
       "      <th>Origin/Ethnicity</th>\n",
       "      <th>Director</th>\n",
       "      <th>Cast</th>\n",
       "      <th>Genre</th>\n",
       "      <th>Wiki Page</th>\n",
       "      <th>Plot</th>\n",
       "    </tr>\n",
       "  </thead>\n",
       "  <tbody>\n",
       "    <tr>\n",
       "      <th>0</th>\n",
       "      <td>17164</td>\n",
       "      <td>2017</td>\n",
       "      <td>Underworld: Blood Wars</td>\n",
       "      <td>American</td>\n",
       "      <td>Anna Foerster</td>\n",
       "      <td>Anna Foerster (director); Cory Goodman (screen...</td>\n",
       "      <td>action, horror</td>\n",
       "      <td>https://en.wikipedia.org/wiki/Underworld:_Bloo...</td>\n",
       "      <td>The remaining vampire covens are on the verge ...</td>\n",
       "    </tr>\n",
       "    <tr>\n",
       "      <th>1</th>\n",
       "      <td>17165</td>\n",
       "      <td>2017</td>\n",
       "      <td>Monster Trucks</td>\n",
       "      <td>American</td>\n",
       "      <td>Chris Wedge</td>\n",
       "      <td>Chris Wedge (director); Jonathan Aibel, Glenn ...</td>\n",
       "      <td>animation, adventure, sci-fi</td>\n",
       "      <td>https://en.wikipedia.org/wiki/Monster_Trucks_(...</td>\n",
       "      <td>Terravex Oil is in the midst of a fracking ope...</td>\n",
       "    </tr>\n",
       "    <tr>\n",
       "      <th>2</th>\n",
       "      <td>17166</td>\n",
       "      <td>2017</td>\n",
       "      <td>The Bye Bye Man</td>\n",
       "      <td>American</td>\n",
       "      <td>Stacy Title</td>\n",
       "      <td>Stacy Title (director); Jonathan Penner (scree...</td>\n",
       "      <td>horror</td>\n",
       "      <td>https://en.wikipedia.org/wiki/The_Bye_Bye_Man</td>\n",
       "      <td>In 1969, a mass murder occurs in which a man k...</td>\n",
       "    </tr>\n",
       "    <tr>\n",
       "      <th>3</th>\n",
       "      <td>17167</td>\n",
       "      <td>2017</td>\n",
       "      <td>Sleepless</td>\n",
       "      <td>American</td>\n",
       "      <td>Baran bo Odar</td>\n",
       "      <td>Baran bo Odar (director); Andrea Berloff (scre...</td>\n",
       "      <td>action, thriller</td>\n",
       "      <td>https://en.wikipedia.org/wiki/Sleepless_(2017_...</td>\n",
       "      <td>In Las Vegas, vice LVMPD policemen Vincent Dow...</td>\n",
       "    </tr>\n",
       "    <tr>\n",
       "      <th>4</th>\n",
       "      <td>17168</td>\n",
       "      <td>2017</td>\n",
       "      <td>100 Streets</td>\n",
       "      <td>American</td>\n",
       "      <td>Jim O'Hanlon</td>\n",
       "      <td>Jim O'Hanlon (director); Leon F. Butler (scree...</td>\n",
       "      <td>drama</td>\n",
       "      <td>https://en.wikipedia.org/wiki/100_Streets</td>\n",
       "      <td>The film centers on three characters who have ...</td>\n",
       "    </tr>\n",
       "  </tbody>\n",
       "</table>\n",
       "</div>"
      ],
      "text/plain": [
       "   index  Release Year                   Title Origin/Ethnicity  \\\n",
       "0  17164          2017  Underworld: Blood Wars         American   \n",
       "1  17165          2017          Monster Trucks         American   \n",
       "2  17166          2017         The Bye Bye Man         American   \n",
       "3  17167          2017               Sleepless         American   \n",
       "4  17168          2017             100 Streets         American   \n",
       "\n",
       "        Director                                               Cast  \\\n",
       "0  Anna Foerster  Anna Foerster (director); Cory Goodman (screen...   \n",
       "1    Chris Wedge  Chris Wedge (director); Jonathan Aibel, Glenn ...   \n",
       "2    Stacy Title  Stacy Title (director); Jonathan Penner (scree...   \n",
       "3  Baran bo Odar  Baran bo Odar (director); Andrea Berloff (scre...   \n",
       "4   Jim O'Hanlon  Jim O'Hanlon (director); Leon F. Butler (scree...   \n",
       "\n",
       "                          Genre  \\\n",
       "0                action, horror   \n",
       "1  animation, adventure, sci-fi   \n",
       "2                        horror   \n",
       "3              action, thriller   \n",
       "4                         drama   \n",
       "\n",
       "                                           Wiki Page  \\\n",
       "0  https://en.wikipedia.org/wiki/Underworld:_Bloo...   \n",
       "1  https://en.wikipedia.org/wiki/Monster_Trucks_(...   \n",
       "2      https://en.wikipedia.org/wiki/The_Bye_Bye_Man   \n",
       "3  https://en.wikipedia.org/wiki/Sleepless_(2017_...   \n",
       "4          https://en.wikipedia.org/wiki/100_Streets   \n",
       "\n",
       "                                                Plot  \n",
       "0  The remaining vampire covens are on the verge ...  \n",
       "1  Terravex Oil is in the midst of a fracking ope...  \n",
       "2  In 1969, a mass murder occurs in which a man k...  \n",
       "3  In Las Vegas, vice LVMPD policemen Vincent Dow...  \n",
       "4  The film centers on three characters who have ...  "
      ]
     },
     "execution_count": 7,
     "metadata": {},
     "output_type": "execute_result"
    }
   ],
   "source": [
    "movie_df.head(5)"
   ]
  },
  {
   "cell_type": "code",
   "execution_count": 8,
   "metadata": {},
   "outputs": [
    {
     "data": {
      "text/plain": [
       "\"The remaining vampire covens are on the verge of being wiped out by the Lycans. Both species are searching for Selene: the vampires seeking justice for the deaths of Viktor and Marcus, and the Lycans, led by Marius, intending to use her to locate Eve, whose blood holds the key to building an army of vampire-werewolf hybrids.\\r\\nSemira, a council member of the Eastern Coven, says she wants Selene to be granted clemency so that she can train the Eastern Coven's neophyte Death Dealers. To that end, Semira enlists Thomas to plead Selene's case before the full council. Thomas succeeds and Selene arrives at the Eastern Coven with David. Semira has her ally and lover Varga poison Selene, then slaughter the Death Dealers and blame Selene for it. Once Selene is under arrest, Semira begins draining her blood, which she intends to drink to gain Selene's power. Thomas and David try to rescue Selene, but they're attacked by Semira and Varga. They kill Thomas, but not before he's able to hold them off long enough for David and Selene to escape.\\r\\nThe pair seeks refuge with the Nordic Coven. They are pursued by Alexia, an Eastern Coven vampire dispatched by Semira. Selene and David arrive at Var Dohr, the stronghold of the Nordic Coven. Their Elder Vidar reveals that David was the son of the High Elder Amelia, making him the legitimate heir to the Eastern Coven.\\r\\nAlexia, who is secretly Marius's lover, tells Marius that Selene is going to the Nordic Coven. Marius and the Lycans attack the Nordic Coven. The Nordic vampires, led by Vidar's daughter Lena, fight alongside Selene and David. Selene engages in single combat with Marius, who demands to know Eve’s location. Selene insists she does not know the location, which Alexia confirms after tasting some of Selene's blood. Marius sounds the retreat for his troops and Selene, wishing to pass on to the sacred world, slides herself under the now-broken ice of the lake.\\r\\nUpon Alexia's return to the Eastern Coven's castle, she informs Semira of the events at the Nordic Coven. Semira kills her, revealing she knew of Alexia's treachery, and wanted Alexia to lead the Lycans to the Nordic Coven for her own ends. David returns to the Eastern Coven and presents himself as its rightful heir. Semira is arrested by none other than Varga, whose ultimate loyalty is to the rightful leadership of the coven. She is subsequently imprisoned in the dungeons.\\r\\nThe coven comes under attack by Marius and his forces. The Lycans blow holes in the castle's walls, letting in sunlight, killing some vampires. David continues fighting, only to find himself face to face with Marius. Selene suddenly reappears, in a Nordic appearance and coat over her normal Death Dealer uniform. It is revealed that the Nordic Coven revived her through their passing to sacred world ritual and in doing so new abilities like enhanced speed are enabled. She swiftly begins dispatching the Lycans, as the rest of the Nordic Coven, led by Lena, join the fight.\\r\\nWhile Selene is making her way through the castle, the guards in the dungeons are killed by Semira, who then escapes from her cell. Selene and David find Marius, but David is waylaid by Semira. As Marius and Selene's fight continues, a drop of Marius's blood lands on Selene's lips. She is suddenly flooded by a series of blood memories in which Marius finds Michael. She sees Marius capturing Michael and slitting his throat in order to collect his blood and consume it. Believing that Michael is dead, she bites her own wrist, using her own blood memories of the time she has spent with Michael, Eve, and David. Although Marius has transformed, Selene rips out his spine, killing him instantly. Semira drank Selene's blood that she collected earlier and gained immunity to sunlight, but David manages to kill her while she was distracted with glee from the sunlight falling on her. He shows Marius's severed head to the Lycans, and forcefully tells them to retreat.\\r\\nIn the aftermath, Selene, David, and Lena are chosen as the new Elders. It is revealed that after being resurrected at the Nordic Coven, Selene was reunited with Eve, who has been following her mother through their telepathic link.\""
      ]
     },
     "execution_count": 8,
     "metadata": {},
     "output_type": "execute_result"
    }
   ],
   "source": [
    "movie_df['Plot'][0]"
   ]
  },
  {
   "cell_type": "code",
   "execution_count": 9,
   "metadata": {},
   "outputs": [],
   "source": [
    "def isAlpha( word ):\n",
    "    for character in word:\n",
    "        if character.isdigit():\n",
    "            return False\n",
    "    \n",
    "    return True"
   ]
  },
  {
   "cell_type": "code",
   "execution_count": 10,
   "metadata": {},
   "outputs": [
    {
     "data": {
      "text/plain": [
       "False"
      ]
     },
     "execution_count": 10,
     "metadata": {},
     "output_type": "execute_result"
    }
   ],
   "source": [
    "isAlpha( \"Prin3ce\" )"
   ]
  },
  {
   "cell_type": "code",
   "execution_count": 11,
   "metadata": {},
   "outputs": [],
   "source": [
    "def remove_numbers( plot ):\n",
    "    words = plot.split()\n",
    "\n",
    "    number_check_regex = [ word for word in words if isAlpha( word ) ]\n",
    "\n",
    "    return \" \".join(number_check_regex)"
   ]
  },
  {
   "cell_type": "code",
   "execution_count": 12,
   "metadata": {},
   "outputs": [
    {
     "data": {
      "text/plain": [
       "'Prince a boy'"
      ]
     },
     "execution_count": 12,
     "metadata": {},
     "output_type": "execute_result"
    }
   ],
   "source": [
    "remove_numbers(\"Prince i2s a goo0d boy\")"
   ]
  },
  {
   "cell_type": "code",
   "execution_count": 13,
   "metadata": {},
   "outputs": [],
   "source": [
    "def remove_stopwords( plot ):\n",
    "    words = plot.split()\n",
    "\n",
    "    ans = [ word for word in words if word not in stopwords.words('english') ]\n",
    "\n",
    "    return \" \".join(ans)\n"
   ]
  },
  {
   "cell_type": "code",
   "execution_count": 14,
   "metadata": {},
   "outputs": [
    {
     "data": {
      "text/plain": [
       "'My life awesome I living dream'"
      ]
     },
     "execution_count": 14,
     "metadata": {},
     "output_type": "execute_result"
    }
   ],
   "source": [
    "remove_stopwords(\" My life is awesome and I am living my dream \")"
   ]
  },
  {
   "cell_type": "code",
   "execution_count": 15,
   "metadata": {},
   "outputs": [],
   "source": [
    "stemmer = PorterStemmer()"
   ]
  },
  {
   "cell_type": "code",
   "execution_count": 16,
   "metadata": {},
   "outputs": [],
   "source": [
    "def stem( plot ):\n",
    "\n",
    "    sentences = sent_tokenize( plot )\n",
    "\n",
    "    stemmed_words = []\n",
    "\n",
    "    for sentence in sentences:\n",
    "        words = word_tokenize( sentence )\n",
    "        pos_tags = pos_tag(words)\n",
    "\n",
    "        for word, pos in pos_tags:\n",
    "            # print(f\"{word} -> {pos}\")   \n",
    "            # if pos == 'NN':\n",
    "            stemmed_words.append( word )\n",
    "\n",
    "\n",
    "    return \" \".join(stemmed_words)"
   ]
  },
  {
   "cell_type": "code",
   "execution_count": 17,
   "metadata": {},
   "outputs": [
    {
     "data": {
      "text/plain": [
       "'Lets try to party till morning . Since we do not know how long we will stay here .'"
      ]
     },
     "execution_count": 17,
     "metadata": {},
     "output_type": "execute_result"
    }
   ],
   "source": [
    "stem(\"Lets try to party till morning. Since we do not know how long we will stay here.\")"
   ]
  },
  {
   "cell_type": "code",
   "execution_count": 18,
   "metadata": {},
   "outputs": [],
   "source": [
    "def preprocess( plot ):\n",
    "\n",
    "    plot = remove_numbers( plot )\n",
    "    plot = remove_stopwords( plot )\n",
    "    plot = stem( plot )\n",
    "\n",
    "    return plot   \n"
   ]
  },
  {
   "cell_type": "code",
   "execution_count": 19,
   "metadata": {},
   "outputs": [
    {
     "data": {
      "text/plain": [
       "'Lets try party till morning . Since know long stay here .'"
      ]
     },
     "execution_count": 19,
     "metadata": {},
     "output_type": "execute_result"
    }
   ],
   "source": [
    "preprocess(\"Lets try to party till morning. Since we do not know how long we will stay here.\")"
   ]
  },
  {
   "cell_type": "code",
   "execution_count": 20,
   "metadata": {},
   "outputs": [
    {
     "data": {
      "text/plain": [
       "805"
      ]
     },
     "execution_count": 20,
     "metadata": {},
     "output_type": "execute_result"
    }
   ],
   "source": [
    "len(movie_df['Plot'])"
   ]
  },
  {
   "cell_type": "code",
   "execution_count": 21,
   "metadata": {},
   "outputs": [
    {
     "data": {
      "text/html": [
       "<div>\n",
       "<style scoped>\n",
       "    .dataframe tbody tr th:only-of-type {\n",
       "        vertical-align: middle;\n",
       "    }\n",
       "\n",
       "    .dataframe tbody tr th {\n",
       "        vertical-align: top;\n",
       "    }\n",
       "\n",
       "    .dataframe thead th {\n",
       "        text-align: right;\n",
       "    }\n",
       "</style>\n",
       "<table border=\"1\" class=\"dataframe\">\n",
       "  <thead>\n",
       "    <tr style=\"text-align: right;\">\n",
       "      <th></th>\n",
       "      <th>index</th>\n",
       "      <th>Release Year</th>\n",
       "      <th>Title</th>\n",
       "      <th>Origin/Ethnicity</th>\n",
       "      <th>Director</th>\n",
       "      <th>Cast</th>\n",
       "      <th>Genre</th>\n",
       "      <th>Wiki Page</th>\n",
       "      <th>Plot</th>\n",
       "    </tr>\n",
       "  </thead>\n",
       "  <tbody>\n",
       "    <tr>\n",
       "      <th>0</th>\n",
       "      <td>17164</td>\n",
       "      <td>2017</td>\n",
       "      <td>Underworld: Blood Wars</td>\n",
       "      <td>American</td>\n",
       "      <td>Anna Foerster</td>\n",
       "      <td>Anna Foerster (director); Cory Goodman (screen...</td>\n",
       "      <td>action, horror</td>\n",
       "      <td>https://en.wikipedia.org/wiki/Underworld:_Bloo...</td>\n",
       "      <td>The remaining vampire covens are on the verge ...</td>\n",
       "    </tr>\n",
       "    <tr>\n",
       "      <th>1</th>\n",
       "      <td>17165</td>\n",
       "      <td>2017</td>\n",
       "      <td>Monster Trucks</td>\n",
       "      <td>American</td>\n",
       "      <td>Chris Wedge</td>\n",
       "      <td>Chris Wedge (director); Jonathan Aibel, Glenn ...</td>\n",
       "      <td>animation, adventure, sci-fi</td>\n",
       "      <td>https://en.wikipedia.org/wiki/Monster_Trucks_(...</td>\n",
       "      <td>Terravex Oil is in the midst of a fracking ope...</td>\n",
       "    </tr>\n",
       "    <tr>\n",
       "      <th>2</th>\n",
       "      <td>17166</td>\n",
       "      <td>2017</td>\n",
       "      <td>The Bye Bye Man</td>\n",
       "      <td>American</td>\n",
       "      <td>Stacy Title</td>\n",
       "      <td>Stacy Title (director); Jonathan Penner (scree...</td>\n",
       "      <td>horror</td>\n",
       "      <td>https://en.wikipedia.org/wiki/The_Bye_Bye_Man</td>\n",
       "      <td>In 1969, a mass murder occurs in which a man k...</td>\n",
       "    </tr>\n",
       "    <tr>\n",
       "      <th>3</th>\n",
       "      <td>17167</td>\n",
       "      <td>2017</td>\n",
       "      <td>Sleepless</td>\n",
       "      <td>American</td>\n",
       "      <td>Baran bo Odar</td>\n",
       "      <td>Baran bo Odar (director); Andrea Berloff (scre...</td>\n",
       "      <td>action, thriller</td>\n",
       "      <td>https://en.wikipedia.org/wiki/Sleepless_(2017_...</td>\n",
       "      <td>In Las Vegas, vice LVMPD policemen Vincent Dow...</td>\n",
       "    </tr>\n",
       "    <tr>\n",
       "      <th>4</th>\n",
       "      <td>17168</td>\n",
       "      <td>2017</td>\n",
       "      <td>100 Streets</td>\n",
       "      <td>American</td>\n",
       "      <td>Jim O'Hanlon</td>\n",
       "      <td>Jim O'Hanlon (director); Leon F. Butler (scree...</td>\n",
       "      <td>drama</td>\n",
       "      <td>https://en.wikipedia.org/wiki/100_Streets</td>\n",
       "      <td>The film centers on three characters who have ...</td>\n",
       "    </tr>\n",
       "    <tr>\n",
       "      <th>5</th>\n",
       "      <td>17169</td>\n",
       "      <td>2017</td>\n",
       "      <td>The Book of Love</td>\n",
       "      <td>American</td>\n",
       "      <td>Bill Purple</td>\n",
       "      <td>Bill Purple (director/screenplay); Jason Sudei...</td>\n",
       "      <td>drama, comedy</td>\n",
       "      <td>https://en.wikipedia.org/wiki/The_Book_of_Love...</td>\n",
       "      <td>After the accidental death of his free-spirite...</td>\n",
       "    </tr>\n",
       "    <tr>\n",
       "      <th>6</th>\n",
       "      <td>17170</td>\n",
       "      <td>2017</td>\n",
       "      <td>Split</td>\n",
       "      <td>American</td>\n",
       "      <td>M. Night Shyamalan</td>\n",
       "      <td>M. Night Shyamalan (director/screenplay); Jame...</td>\n",
       "      <td>horror, thriller, drama</td>\n",
       "      <td>https://en.wikipedia.org/wiki/Split_(2016_Amer...</td>\n",
       "      <td>Casey Cooke is an emotionally withdrawn teenag...</td>\n",
       "    </tr>\n",
       "    <tr>\n",
       "      <th>7</th>\n",
       "      <td>17171</td>\n",
       "      <td>2017</td>\n",
       "      <td>xXx: Return of Xander Cage</td>\n",
       "      <td>American</td>\n",
       "      <td>D. J. Caruso</td>\n",
       "      <td>D. J. Caruso (director); F. Scott Frazier, Cha...</td>\n",
       "      <td>action, adventure</td>\n",
       "      <td>https://en.wikipedia.org/wiki/XXx:_Return_of_X...</td>\n",
       "      <td>NSA Agent Augustus Gibbons attempts to recruit...</td>\n",
       "    </tr>\n",
       "    <tr>\n",
       "      <th>8</th>\n",
       "      <td>17172</td>\n",
       "      <td>2017</td>\n",
       "      <td>The Resurrection of Gavin Stone</td>\n",
       "      <td>American</td>\n",
       "      <td>Dallas Jenkins</td>\n",
       "      <td>Dallas Jenkins (director); Andrea Gyertson Nas...</td>\n",
       "      <td>comedy, drama</td>\n",
       "      <td>https://en.wikipedia.org/wiki/The_Resurrection...</td>\n",
       "      <td>Former child star Gavin Stone is now a washed-...</td>\n",
       "    </tr>\n",
       "    <tr>\n",
       "      <th>9</th>\n",
       "      <td>17173</td>\n",
       "      <td>2017</td>\n",
       "      <td>Trespass Against Us</td>\n",
       "      <td>American</td>\n",
       "      <td>Adam Smith</td>\n",
       "      <td>Adam Smith (director); Alastair Siddons (scree...</td>\n",
       "      <td>crime, drama, thriller</td>\n",
       "      <td>https://en.wikipedia.org/wiki/Trespass_Against_Us</td>\n",
       "      <td>To give a better future to his son, Chad Cutle...</td>\n",
       "    </tr>\n",
       "    <tr>\n",
       "      <th>10</th>\n",
       "      <td>17174</td>\n",
       "      <td>2017</td>\n",
       "      <td>Sophie and the Rising Sun</td>\n",
       "      <td>American</td>\n",
       "      <td>Maggie Greenwald</td>\n",
       "      <td>Maggie Greenwald (director/screenplay); Julian...</td>\n",
       "      <td>drama, romance</td>\n",
       "      <td>https://en.wikipedia.org/wiki/Sophie_and_the_R...</td>\n",
       "      <td>Set in the autumn of 1941 in Salty Creek, a wi...</td>\n",
       "    </tr>\n",
       "    <tr>\n",
       "      <th>11</th>\n",
       "      <td>17175</td>\n",
       "      <td>2017</td>\n",
       "      <td>A Dog's Purpose</td>\n",
       "      <td>American</td>\n",
       "      <td>Lasse Hallström</td>\n",
       "      <td>Lasse Hallström (director); Audrey Wells (scre...</td>\n",
       "      <td>family</td>\n",
       "      <td>https://en.wikipedia.org/wiki/A_Dog%27s_Purpos...</td>\n",
       "      <td>In the 1950s, a feral puppy named Toby is whis...</td>\n",
       "    </tr>\n",
       "    <tr>\n",
       "      <th>12</th>\n",
       "      <td>17176</td>\n",
       "      <td>2017</td>\n",
       "      <td>Resident Evil: The Final Chapter</td>\n",
       "      <td>American</td>\n",
       "      <td>Paul W. S. Anderson</td>\n",
       "      <td>Paul W. S. Anderson (director/screenplay); Mil...</td>\n",
       "      <td>action, adventure, horror, sci-fi</td>\n",
       "      <td>https://en.wikipedia.org/wiki/Resident_Evil:_T...</td>\n",
       "      <td>Dr. James Marcus, the original founder of the ...</td>\n",
       "    </tr>\n",
       "    <tr>\n",
       "      <th>13</th>\n",
       "      <td>17177</td>\n",
       "      <td>2017</td>\n",
       "      <td>iBoy</td>\n",
       "      <td>American</td>\n",
       "      <td>Adam Randall</td>\n",
       "      <td>Adam Randall (director), Joe Barton (screenpla...</td>\n",
       "      <td>action, crime</td>\n",
       "      <td>https://en.wikipedia.org/wiki/IBoy</td>\n",
       "      <td>Living in a gang ridden part of London, teenag...</td>\n",
       "    </tr>\n",
       "    <tr>\n",
       "      <th>14</th>\n",
       "      <td>17178</td>\n",
       "      <td>2017</td>\n",
       "      <td>Rings</td>\n",
       "      <td>American</td>\n",
       "      <td>F. Javier Gutiérrez</td>\n",
       "      <td>F. Javier Gutiérrez (director); Matilda Lutz, ...</td>\n",
       "      <td>horror, thriller</td>\n",
       "      <td>https://en.wikipedia.org/wiki/Rings_(2017_film)</td>\n",
       "      <td>On an airplane bound for Seattle, a man reveal...</td>\n",
       "    </tr>\n",
       "    <tr>\n",
       "      <th>15</th>\n",
       "      <td>17179</td>\n",
       "      <td>2017</td>\n",
       "      <td>The Space Between Us</td>\n",
       "      <td>American</td>\n",
       "      <td>Peter Chelsom</td>\n",
       "      <td>Peter Chelsom (director/screenplay); Allan Loe...</td>\n",
       "      <td>sci-fi, adventure, romance</td>\n",
       "      <td>https://en.wikipedia.org/wiki/The_Space_Betwee...</td>\n",
       "      <td>In the near future, Nathaniel Shepard, CEO of ...</td>\n",
       "    </tr>\n",
       "    <tr>\n",
       "      <th>16</th>\n",
       "      <td>17180</td>\n",
       "      <td>2017</td>\n",
       "      <td>Youth in Oregon</td>\n",
       "      <td>American</td>\n",
       "      <td>Joel David Moore</td>\n",
       "      <td>Joel David Moore (director); Andrew Eisen (scr...</td>\n",
       "      <td>comedy, drama</td>\n",
       "      <td>https://en.wikipedia.org/wiki/Youth_in_Oregon</td>\n",
       "      <td>A man is tasked with driving his embittered 80...</td>\n",
       "    </tr>\n",
       "    <tr>\n",
       "      <th>17</th>\n",
       "      <td>17181</td>\n",
       "      <td>2017</td>\n",
       "      <td>Growing Up Smith</td>\n",
       "      <td>American</td>\n",
       "      <td>Frank Lotito</td>\n",
       "      <td>Frank Lotito (director); Jason Lee, Anjul Niga...</td>\n",
       "      <td>comedy</td>\n",
       "      <td>https://en.wikipedia.org/wiki/Growing_Up_Smith</td>\n",
       "      <td>Growing Up Smith is a coming-of-age story of S...</td>\n",
       "    </tr>\n",
       "    <tr>\n",
       "      <th>18</th>\n",
       "      <td>17182</td>\n",
       "      <td>2017</td>\n",
       "      <td>The Lego Batman Movie</td>\n",
       "      <td>American</td>\n",
       "      <td>Chris McKay</td>\n",
       "      <td>Chris McKay (director); Seth Grahame-Smith (sc...</td>\n",
       "      <td>animation, comedy, action</td>\n",
       "      <td>https://en.wikipedia.org/wiki/The_Lego_Batman_...</td>\n",
       "      <td>Within the Lego Universe, Batman continues to ...</td>\n",
       "    </tr>\n",
       "    <tr>\n",
       "      <th>19</th>\n",
       "      <td>17183</td>\n",
       "      <td>2017</td>\n",
       "      <td>Fifty Shades Darker</td>\n",
       "      <td>American</td>\n",
       "      <td>James Foley</td>\n",
       "      <td>James Foley (director); Niall Leonard (screenp...</td>\n",
       "      <td>drama, romance</td>\n",
       "      <td>https://en.wikipedia.org/wiki/Fifty_Shades_Dar...</td>\n",
       "      <td>After Anastasia Steele leaves Christian Grey, ...</td>\n",
       "    </tr>\n",
       "  </tbody>\n",
       "</table>\n",
       "</div>"
      ],
      "text/plain": [
       "    index  Release Year                             Title Origin/Ethnicity  \\\n",
       "0   17164          2017            Underworld: Blood Wars         American   \n",
       "1   17165          2017                    Monster Trucks         American   \n",
       "2   17166          2017                   The Bye Bye Man         American   \n",
       "3   17167          2017                         Sleepless         American   \n",
       "4   17168          2017                       100 Streets         American   \n",
       "5   17169          2017                  The Book of Love         American   \n",
       "6   17170          2017                             Split         American   \n",
       "7   17171          2017        xXx: Return of Xander Cage         American   \n",
       "8   17172          2017   The Resurrection of Gavin Stone         American   \n",
       "9   17173          2017               Trespass Against Us         American   \n",
       "10  17174          2017         Sophie and the Rising Sun         American   \n",
       "11  17175          2017                   A Dog's Purpose         American   \n",
       "12  17176          2017  Resident Evil: The Final Chapter         American   \n",
       "13  17177          2017                              iBoy         American   \n",
       "14  17178          2017                             Rings         American   \n",
       "15  17179          2017              The Space Between Us         American   \n",
       "16  17180          2017                   Youth in Oregon         American   \n",
       "17  17181          2017                  Growing Up Smith         American   \n",
       "18  17182          2017             The Lego Batman Movie         American   \n",
       "19  17183          2017               Fifty Shades Darker         American   \n",
       "\n",
       "               Director                                               Cast  \\\n",
       "0         Anna Foerster  Anna Foerster (director); Cory Goodman (screen...   \n",
       "1           Chris Wedge  Chris Wedge (director); Jonathan Aibel, Glenn ...   \n",
       "2           Stacy Title  Stacy Title (director); Jonathan Penner (scree...   \n",
       "3         Baran bo Odar  Baran bo Odar (director); Andrea Berloff (scre...   \n",
       "4          Jim O'Hanlon  Jim O'Hanlon (director); Leon F. Butler (scree...   \n",
       "5           Bill Purple  Bill Purple (director/screenplay); Jason Sudei...   \n",
       "6    M. Night Shyamalan  M. Night Shyamalan (director/screenplay); Jame...   \n",
       "7          D. J. Caruso  D. J. Caruso (director); F. Scott Frazier, Cha...   \n",
       "8        Dallas Jenkins  Dallas Jenkins (director); Andrea Gyertson Nas...   \n",
       "9            Adam Smith  Adam Smith (director); Alastair Siddons (scree...   \n",
       "10     Maggie Greenwald  Maggie Greenwald (director/screenplay); Julian...   \n",
       "11      Lasse Hallström  Lasse Hallström (director); Audrey Wells (scre...   \n",
       "12  Paul W. S. Anderson  Paul W. S. Anderson (director/screenplay); Mil...   \n",
       "13         Adam Randall  Adam Randall (director), Joe Barton (screenpla...   \n",
       "14  F. Javier Gutiérrez  F. Javier Gutiérrez (director); Matilda Lutz, ...   \n",
       "15        Peter Chelsom  Peter Chelsom (director/screenplay); Allan Loe...   \n",
       "16     Joel David Moore  Joel David Moore (director); Andrew Eisen (scr...   \n",
       "17         Frank Lotito  Frank Lotito (director); Jason Lee, Anjul Niga...   \n",
       "18          Chris McKay  Chris McKay (director); Seth Grahame-Smith (sc...   \n",
       "19          James Foley  James Foley (director); Niall Leonard (screenp...   \n",
       "\n",
       "                                Genre  \\\n",
       "0                      action, horror   \n",
       "1        animation, adventure, sci-fi   \n",
       "2                              horror   \n",
       "3                    action, thriller   \n",
       "4                               drama   \n",
       "5                       drama, comedy   \n",
       "6             horror, thriller, drama   \n",
       "7                   action, adventure   \n",
       "8                       comedy, drama   \n",
       "9              crime, drama, thriller   \n",
       "10                     drama, romance   \n",
       "11                             family   \n",
       "12  action, adventure, horror, sci-fi   \n",
       "13                      action, crime   \n",
       "14                   horror, thriller   \n",
       "15         sci-fi, adventure, romance   \n",
       "16                      comedy, drama   \n",
       "17                             comedy   \n",
       "18          animation, comedy, action   \n",
       "19                     drama, romance   \n",
       "\n",
       "                                            Wiki Page  \\\n",
       "0   https://en.wikipedia.org/wiki/Underworld:_Bloo...   \n",
       "1   https://en.wikipedia.org/wiki/Monster_Trucks_(...   \n",
       "2       https://en.wikipedia.org/wiki/The_Bye_Bye_Man   \n",
       "3   https://en.wikipedia.org/wiki/Sleepless_(2017_...   \n",
       "4           https://en.wikipedia.org/wiki/100_Streets   \n",
       "5   https://en.wikipedia.org/wiki/The_Book_of_Love...   \n",
       "6   https://en.wikipedia.org/wiki/Split_(2016_Amer...   \n",
       "7   https://en.wikipedia.org/wiki/XXx:_Return_of_X...   \n",
       "8   https://en.wikipedia.org/wiki/The_Resurrection...   \n",
       "9   https://en.wikipedia.org/wiki/Trespass_Against_Us   \n",
       "10  https://en.wikipedia.org/wiki/Sophie_and_the_R...   \n",
       "11  https://en.wikipedia.org/wiki/A_Dog%27s_Purpos...   \n",
       "12  https://en.wikipedia.org/wiki/Resident_Evil:_T...   \n",
       "13                 https://en.wikipedia.org/wiki/IBoy   \n",
       "14    https://en.wikipedia.org/wiki/Rings_(2017_film)   \n",
       "15  https://en.wikipedia.org/wiki/The_Space_Betwee...   \n",
       "16      https://en.wikipedia.org/wiki/Youth_in_Oregon   \n",
       "17     https://en.wikipedia.org/wiki/Growing_Up_Smith   \n",
       "18  https://en.wikipedia.org/wiki/The_Lego_Batman_...   \n",
       "19  https://en.wikipedia.org/wiki/Fifty_Shades_Dar...   \n",
       "\n",
       "                                                 Plot  \n",
       "0   The remaining vampire covens are on the verge ...  \n",
       "1   Terravex Oil is in the midst of a fracking ope...  \n",
       "2   In 1969, a mass murder occurs in which a man k...  \n",
       "3   In Las Vegas, vice LVMPD policemen Vincent Dow...  \n",
       "4   The film centers on three characters who have ...  \n",
       "5   After the accidental death of his free-spirite...  \n",
       "6   Casey Cooke is an emotionally withdrawn teenag...  \n",
       "7   NSA Agent Augustus Gibbons attempts to recruit...  \n",
       "8   Former child star Gavin Stone is now a washed-...  \n",
       "9   To give a better future to his son, Chad Cutle...  \n",
       "10  Set in the autumn of 1941 in Salty Creek, a wi...  \n",
       "11  In the 1950s, a feral puppy named Toby is whis...  \n",
       "12  Dr. James Marcus, the original founder of the ...  \n",
       "13  Living in a gang ridden part of London, teenag...  \n",
       "14  On an airplane bound for Seattle, a man reveal...  \n",
       "15  In the near future, Nathaniel Shepard, CEO of ...  \n",
       "16  A man is tasked with driving his embittered 80...  \n",
       "17  Growing Up Smith is a coming-of-age story of S...  \n",
       "18  Within the Lego Universe, Batman continues to ...  \n",
       "19  After Anastasia Steele leaves Christian Grey, ...  "
      ]
     },
     "execution_count": 21,
     "metadata": {},
     "output_type": "execute_result"
    }
   ],
   "source": [
    "movie_df.head(20)"
   ]
  },
  {
   "cell_type": "code",
   "execution_count": 22,
   "metadata": {},
   "outputs": [
    {
     "name": "stderr",
     "output_type": "stream",
     "text": [
      "C:\\Users\\princ\\AppData\\Local\\Temp\\ipykernel_26160\\4169354995.py:4: SettingWithCopyWarning: \n",
      "A value is trying to be set on a copy of a slice from a DataFrame\n",
      "\n",
      "See the caveats in the documentation: https://pandas.pydata.org/pandas-docs/stable/user_guide/indexing.html#returning-a-view-versus-a-copy\n",
      "  movie_df.loc[i]['Plot'] = preprocess( plot )\n"
     ]
    }
   ],
   "source": [
    "i = 0\n",
    "while i < len(movie_df):\n",
    "    plot = movie_df['Plot'][i]\n",
    "    movie_df.loc[i]['Plot'] = preprocess( plot )\n",
    "    i += 1\n",
    "    "
   ]
  },
  {
   "cell_type": "code",
   "execution_count": 25,
   "metadata": {},
   "outputs": [
    {
     "data": {
      "text/html": [
       "<div>\n",
       "<style scoped>\n",
       "    .dataframe tbody tr th:only-of-type {\n",
       "        vertical-align: middle;\n",
       "    }\n",
       "\n",
       "    .dataframe tbody tr th {\n",
       "        vertical-align: top;\n",
       "    }\n",
       "\n",
       "    .dataframe thead th {\n",
       "        text-align: right;\n",
       "    }\n",
       "</style>\n",
       "<table border=\"1\" class=\"dataframe\">\n",
       "  <thead>\n",
       "    <tr style=\"text-align: right;\">\n",
       "      <th></th>\n",
       "      <th>index</th>\n",
       "      <th>Release Year</th>\n",
       "      <th>Title</th>\n",
       "      <th>Origin/Ethnicity</th>\n",
       "      <th>Director</th>\n",
       "      <th>Cast</th>\n",
       "      <th>Genre</th>\n",
       "      <th>Wiki Page</th>\n",
       "      <th>Plot</th>\n",
       "    </tr>\n",
       "  </thead>\n",
       "  <tbody>\n",
       "    <tr>\n",
       "      <th>0</th>\n",
       "      <td>17164</td>\n",
       "      <td>2017</td>\n",
       "      <td>Underworld: Blood Wars</td>\n",
       "      <td>American</td>\n",
       "      <td>Anna Foerster</td>\n",
       "      <td>Anna Foerster (director); Cory Goodman (screen...</td>\n",
       "      <td>action, horror</td>\n",
       "      <td>https://en.wikipedia.org/wiki/Underworld:_Bloo...</td>\n",
       "      <td>The remaining vampire covens are on the verge ...</td>\n",
       "    </tr>\n",
       "    <tr>\n",
       "      <th>1</th>\n",
       "      <td>17165</td>\n",
       "      <td>2017</td>\n",
       "      <td>Monster Trucks</td>\n",
       "      <td>American</td>\n",
       "      <td>Chris Wedge</td>\n",
       "      <td>Chris Wedge (director); Jonathan Aibel, Glenn ...</td>\n",
       "      <td>animation, adventure, sci-fi</td>\n",
       "      <td>https://en.wikipedia.org/wiki/Monster_Trucks_(...</td>\n",
       "      <td>Terravex Oil is in the midst of a fracking ope...</td>\n",
       "    </tr>\n",
       "    <tr>\n",
       "      <th>2</th>\n",
       "      <td>17166</td>\n",
       "      <td>2017</td>\n",
       "      <td>The Bye Bye Man</td>\n",
       "      <td>American</td>\n",
       "      <td>Stacy Title</td>\n",
       "      <td>Stacy Title (director); Jonathan Penner (scree...</td>\n",
       "      <td>horror</td>\n",
       "      <td>https://en.wikipedia.org/wiki/The_Bye_Bye_Man</td>\n",
       "      <td>In 1969, a mass murder occurs in which a man k...</td>\n",
       "    </tr>\n",
       "  </tbody>\n",
       "</table>\n",
       "</div>"
      ],
      "text/plain": [
       "   index  Release Year                   Title Origin/Ethnicity  \\\n",
       "0  17164          2017  Underworld: Blood Wars         American   \n",
       "1  17165          2017          Monster Trucks         American   \n",
       "2  17166          2017         The Bye Bye Man         American   \n",
       "\n",
       "        Director                                               Cast  \\\n",
       "0  Anna Foerster  Anna Foerster (director); Cory Goodman (screen...   \n",
       "1    Chris Wedge  Chris Wedge (director); Jonathan Aibel, Glenn ...   \n",
       "2    Stacy Title  Stacy Title (director); Jonathan Penner (scree...   \n",
       "\n",
       "                          Genre  \\\n",
       "0                action, horror   \n",
       "1  animation, adventure, sci-fi   \n",
       "2                        horror   \n",
       "\n",
       "                                           Wiki Page  \\\n",
       "0  https://en.wikipedia.org/wiki/Underworld:_Bloo...   \n",
       "1  https://en.wikipedia.org/wiki/Monster_Trucks_(...   \n",
       "2      https://en.wikipedia.org/wiki/The_Bye_Bye_Man   \n",
       "\n",
       "                                                Plot  \n",
       "0  The remaining vampire covens are on the verge ...  \n",
       "1  Terravex Oil is in the midst of a fracking ope...  \n",
       "2  In 1969, a mass murder occurs in which a man k...  "
      ]
     },
     "execution_count": 25,
     "metadata": {},
     "output_type": "execute_result"
    }
   ],
   "source": [
    "movie_df.head(3)"
   ]
  },
  {
   "cell_type": "code",
   "execution_count": null,
   "metadata": {},
   "outputs": [],
   "source": [
    "Step 4: Vectorize the data"
   ]
  },
  {
   "cell_type": "code",
   "execution_count": 26,
   "metadata": {},
   "outputs": [],
   "source": [
    "from sklearn.feature_extraction.text import TfidfVectorizer\n",
    "\n",
    "tfidf_vectorizer = TfidfVectorizer( max_df=0.8, min_df=0.2, max_features=800000, use_idf=True, ngram_range=(1,3) )\n",
    "\n",
    "tfidf_matrix = tfidf_vectorizer.fit_transform( [ plot for plot in movie_df['Plot'] ] )\n"
   ]
  },
  {
   "cell_type": "code",
   "execution_count": 27,
   "metadata": {},
   "outputs": [
    {
     "data": {
      "text/plain": [
       "<805x175 sparse matrix of type '<class 'numpy.float64'>'\n",
       "\twith 48743 stored elements in Compressed Sparse Row format>"
      ]
     },
     "execution_count": 27,
     "metadata": {},
     "output_type": "execute_result"
    }
   ],
   "source": [
    "tfidf_matrix"
   ]
  },
  {
   "cell_type": "code",
   "execution_count": null,
   "metadata": {},
   "outputs": [],
   "source": [
    "Step 5: Cluster the data based on genres"
   ]
  },
  {
   "cell_type": "code",
   "execution_count": 30,
   "metadata": {},
   "outputs": [
    {
     "name": "stdout",
     "output_type": "stream",
     "text": [
      "['c:\\\\Users\\\\princ\\\\Documents\\\\Machine Learning Projects\\\\Summer 24\\\\Natural Language Processing\\\\Movie Plot Similarity using IMDB dataset', 'C:\\\\Users\\\\princ\\\\.pyenv\\\\pyenv-win\\\\versions\\\\3.8.3\\\\python38.zip', 'C:\\\\Users\\\\princ\\\\.pyenv\\\\pyenv-win\\\\versions\\\\3.8.3\\\\DLLs', 'C:\\\\Users\\\\princ\\\\.pyenv\\\\pyenv-win\\\\versions\\\\3.8.3\\\\lib', 'C:\\\\Users\\\\princ\\\\.pyenv\\\\pyenv-win\\\\versions\\\\3.8.3', 'c:\\\\Users\\\\princ\\\\Documents\\\\Machine Learning Projects\\\\Summer 24\\\\Natural Language Processing\\\\Movie Plot Similarity using IMDB dataset\\\\movie_Plot_Similarity_env', '', 'c:\\\\Users\\\\princ\\\\Documents\\\\Machine Learning Projects\\\\Summer 24\\\\Natural Language Processing\\\\Movie Plot Similarity using IMDB dataset\\\\movie_Plot_Similarity_env\\\\lib\\\\site-packages', 'c:\\\\Users\\\\princ\\\\Documents\\\\Machine Learning Projects\\\\Summer 24\\\\Natural Language Processing\\\\Movie Plot Similarity using IMDB dataset\\\\movie_Plot_Similarity_env\\\\lib\\\\site-packages\\\\win32', 'c:\\\\Users\\\\princ\\\\Documents\\\\Machine Learning Projects\\\\Summer 24\\\\Natural Language Processing\\\\Movie Plot Similarity using IMDB dataset\\\\movie_Plot_Similarity_env\\\\lib\\\\site-packages\\\\win32\\\\lib', 'c:\\\\Users\\\\princ\\\\Documents\\\\Machine Learning Projects\\\\Summer 24\\\\Natural Language Processing\\\\Movie Plot Similarity using IMDB dataset\\\\movie_Plot_Similarity_env\\\\lib\\\\site-packages\\\\Pythonwin']\n"
     ]
    }
   ],
   "source": [
    "import sys\n",
    "print(sys.path)"
   ]
  },
  {
   "cell_type": "code",
   "execution_count": 31,
   "metadata": {},
   "outputs": [],
   "source": [
    "import os"
   ]
  },
  {
   "cell_type": "code",
   "execution_count": 32,
   "metadata": {},
   "outputs": [
    {
     "data": {
      "text/plain": [
       "<AddedDllDirectory('c:\\\\Users\\\\princ\\\\AppData\\\\Local\\\\Programs\\\\Python\\\\Python311\\\\DLLs')>"
      ]
     },
     "execution_count": 32,
     "metadata": {},
     "output_type": "execute_result"
    }
   ],
   "source": [
    "os.add_dll_directory(\"c:\\\\Users\\\\princ\\\\AppData\\\\Local\\\\Programs\\\\Python\\\\Python311\\\\DLLs\")"
   ]
  },
  {
   "cell_type": "code",
   "execution_count": 33,
   "metadata": {},
   "outputs": [
    {
     "ename": "ImportError",
     "evalue": "DLL load failed while importing _datasets_pair: The filename or extension is too long.",
     "output_type": "error",
     "traceback": [
      "\u001b[1;31m---------------------------------------------------------------------------\u001b[0m",
      "\u001b[1;31mImportError\u001b[0m                               Traceback (most recent call last)",
      "Cell \u001b[1;32mIn[33], line 1\u001b[0m\n\u001b[1;32m----> 1\u001b[0m \u001b[38;5;28;01mfrom\u001b[39;00m \u001b[38;5;21;01msklearn\u001b[39;00m\u001b[38;5;21;01m.\u001b[39;00m\u001b[38;5;21;01mcluster\u001b[39;00m \u001b[38;5;28;01mimport\u001b[39;00m KMeans\n\u001b[0;32m      3\u001b[0m km \u001b[38;5;241m=\u001b[39m KMeans( n_clusters \u001b[38;5;241m=\u001b[39m \u001b[38;5;241m5\u001b[39m )\n\u001b[0;32m      5\u001b[0m km\u001b[38;5;241m.\u001b[39mfit( tfidf_matrix )\n",
      "File \u001b[1;32mc:\\Users\\princ\\Documents\\Machine Learning Projects\\Summer 24\\Natural Language Processing\\Movie Plot Similarity using IMDB dataset\\movie_Plot_Similarity_env\\lib\\site-packages\\sklearn\\cluster\\__init__.py:6\u001b[0m\n\u001b[0;32m      1\u001b[0m \u001b[38;5;124;03m\"\"\"\u001b[39;00m\n\u001b[0;32m      2\u001b[0m \u001b[38;5;124;03mThe :mod:`sklearn.cluster` module gathers popular unsupervised clustering\u001b[39;00m\n\u001b[0;32m      3\u001b[0m \u001b[38;5;124;03malgorithms.\u001b[39;00m\n\u001b[0;32m      4\u001b[0m \u001b[38;5;124;03m\"\"\"\u001b[39;00m\n\u001b[1;32m----> 6\u001b[0m \u001b[38;5;28;01mfrom\u001b[39;00m \u001b[38;5;21;01m.\u001b[39;00m\u001b[38;5;21;01m_affinity_propagation\u001b[39;00m \u001b[38;5;28;01mimport\u001b[39;00m AffinityPropagation, affinity_propagation\n\u001b[0;32m      7\u001b[0m \u001b[38;5;28;01mfrom\u001b[39;00m \u001b[38;5;21;01m.\u001b[39;00m\u001b[38;5;21;01m_agglomerative\u001b[39;00m \u001b[38;5;28;01mimport\u001b[39;00m (\n\u001b[0;32m      8\u001b[0m     AgglomerativeClustering,\n\u001b[0;32m      9\u001b[0m     FeatureAgglomeration,\n\u001b[0;32m     10\u001b[0m     linkage_tree,\n\u001b[0;32m     11\u001b[0m     ward_tree,\n\u001b[0;32m     12\u001b[0m )\n\u001b[0;32m     13\u001b[0m \u001b[38;5;28;01mfrom\u001b[39;00m \u001b[38;5;21;01m.\u001b[39;00m\u001b[38;5;21;01m_bicluster\u001b[39;00m \u001b[38;5;28;01mimport\u001b[39;00m SpectralBiclustering, SpectralCoclustering\n",
      "File \u001b[1;32mc:\\Users\\princ\\Documents\\Machine Learning Projects\\Summer 24\\Natural Language Processing\\Movie Plot Similarity using IMDB dataset\\movie_Plot_Similarity_env\\lib\\site-packages\\sklearn\\cluster\\_affinity_propagation.py:16\u001b[0m\n\u001b[0;32m     14\u001b[0m \u001b[38;5;28;01mfrom\u001b[39;00m \u001b[38;5;21;01m.\u001b[39;00m\u001b[38;5;21;01m.\u001b[39;00m\u001b[38;5;21;01mbase\u001b[39;00m \u001b[38;5;28;01mimport\u001b[39;00m BaseEstimator, ClusterMixin, _fit_context\n\u001b[0;32m     15\u001b[0m \u001b[38;5;28;01mfrom\u001b[39;00m \u001b[38;5;21;01m.\u001b[39;00m\u001b[38;5;21;01m.\u001b[39;00m\u001b[38;5;21;01mexceptions\u001b[39;00m \u001b[38;5;28;01mimport\u001b[39;00m ConvergenceWarning\n\u001b[1;32m---> 16\u001b[0m \u001b[38;5;28;01mfrom\u001b[39;00m \u001b[38;5;21;01m.\u001b[39;00m\u001b[38;5;21;01m.\u001b[39;00m\u001b[38;5;21;01mmetrics\u001b[39;00m \u001b[38;5;28;01mimport\u001b[39;00m euclidean_distances, pairwise_distances_argmin\n\u001b[0;32m     17\u001b[0m \u001b[38;5;28;01mfrom\u001b[39;00m \u001b[38;5;21;01m.\u001b[39;00m\u001b[38;5;21;01m.\u001b[39;00m\u001b[38;5;21;01mutils\u001b[39;00m \u001b[38;5;28;01mimport\u001b[39;00m check_random_state\n\u001b[0;32m     18\u001b[0m \u001b[38;5;28;01mfrom\u001b[39;00m \u001b[38;5;21;01m.\u001b[39;00m\u001b[38;5;21;01m.\u001b[39;00m\u001b[38;5;21;01mutils\u001b[39;00m\u001b[38;5;21;01m.\u001b[39;00m\u001b[38;5;21;01m_param_validation\u001b[39;00m \u001b[38;5;28;01mimport\u001b[39;00m Interval, StrOptions, validate_params\n",
      "File \u001b[1;32mc:\\Users\\princ\\Documents\\Machine Learning Projects\\Summer 24\\Natural Language Processing\\Movie Plot Similarity using IMDB dataset\\movie_Plot_Similarity_env\\lib\\site-packages\\sklearn\\metrics\\__init__.py:7\u001b[0m\n\u001b[0;32m      1\u001b[0m \u001b[38;5;124;03m\"\"\"\u001b[39;00m\n\u001b[0;32m      2\u001b[0m \u001b[38;5;124;03mThe :mod:`sklearn.metrics` module includes score functions, performance metrics\u001b[39;00m\n\u001b[0;32m      3\u001b[0m \u001b[38;5;124;03mand pairwise metrics and distance computations.\u001b[39;00m\n\u001b[0;32m      4\u001b[0m \u001b[38;5;124;03m\"\"\"\u001b[39;00m\n\u001b[1;32m----> 7\u001b[0m \u001b[38;5;28;01mfrom\u001b[39;00m \u001b[38;5;21;01m.\u001b[39;00m \u001b[38;5;28;01mimport\u001b[39;00m cluster\n\u001b[0;32m      8\u001b[0m \u001b[38;5;28;01mfrom\u001b[39;00m \u001b[38;5;21;01m.\u001b[39;00m\u001b[38;5;21;01m_classification\u001b[39;00m \u001b[38;5;28;01mimport\u001b[39;00m (\n\u001b[0;32m      9\u001b[0m     accuracy_score,\n\u001b[0;32m     10\u001b[0m     balanced_accuracy_score,\n\u001b[1;32m   (...)\u001b[0m\n\u001b[0;32m     27\u001b[0m     zero_one_loss,\n\u001b[0;32m     28\u001b[0m )\n\u001b[0;32m     29\u001b[0m \u001b[38;5;28;01mfrom\u001b[39;00m \u001b[38;5;21;01m.\u001b[39;00m\u001b[38;5;21;01m_dist_metrics\u001b[39;00m \u001b[38;5;28;01mimport\u001b[39;00m DistanceMetric\n",
      "File \u001b[1;32mc:\\Users\\princ\\Documents\\Machine Learning Projects\\Summer 24\\Natural Language Processing\\Movie Plot Similarity using IMDB dataset\\movie_Plot_Similarity_env\\lib\\site-packages\\sklearn\\metrics\\cluster\\__init__.py:25\u001b[0m\n\u001b[0;32m      8\u001b[0m \u001b[38;5;28;01mfrom\u001b[39;00m \u001b[38;5;21;01m.\u001b[39;00m\u001b[38;5;21;01m_bicluster\u001b[39;00m \u001b[38;5;28;01mimport\u001b[39;00m consensus_score\n\u001b[0;32m      9\u001b[0m \u001b[38;5;28;01mfrom\u001b[39;00m \u001b[38;5;21;01m.\u001b[39;00m\u001b[38;5;21;01m_supervised\u001b[39;00m \u001b[38;5;28;01mimport\u001b[39;00m (\n\u001b[0;32m     10\u001b[0m     adjusted_mutual_info_score,\n\u001b[0;32m     11\u001b[0m     adjusted_rand_score,\n\u001b[1;32m   (...)\u001b[0m\n\u001b[0;32m     23\u001b[0m     v_measure_score,\n\u001b[0;32m     24\u001b[0m )\n\u001b[1;32m---> 25\u001b[0m \u001b[38;5;28;01mfrom\u001b[39;00m \u001b[38;5;21;01m.\u001b[39;00m\u001b[38;5;21;01m_unsupervised\u001b[39;00m \u001b[38;5;28;01mimport\u001b[39;00m (\n\u001b[0;32m     26\u001b[0m     calinski_harabasz_score,\n\u001b[0;32m     27\u001b[0m     davies_bouldin_score,\n\u001b[0;32m     28\u001b[0m     silhouette_samples,\n\u001b[0;32m     29\u001b[0m     silhouette_score,\n\u001b[0;32m     30\u001b[0m )\n\u001b[0;32m     32\u001b[0m __all__ \u001b[38;5;241m=\u001b[39m [\n\u001b[0;32m     33\u001b[0m     \u001b[38;5;124m\"\u001b[39m\u001b[38;5;124madjusted_mutual_info_score\u001b[39m\u001b[38;5;124m\"\u001b[39m,\n\u001b[0;32m     34\u001b[0m     \u001b[38;5;124m\"\u001b[39m\u001b[38;5;124mnormalized_mutual_info_score\u001b[39m\u001b[38;5;124m\"\u001b[39m,\n\u001b[1;32m   (...)\u001b[0m\n\u001b[0;32m     51\u001b[0m     \u001b[38;5;124m\"\u001b[39m\u001b[38;5;124mconsensus_score\u001b[39m\u001b[38;5;124m\"\u001b[39m,\n\u001b[0;32m     52\u001b[0m ]\n",
      "File \u001b[1;32mc:\\Users\\princ\\Documents\\Machine Learning Projects\\Summer 24\\Natural Language Processing\\Movie Plot Similarity using IMDB dataset\\movie_Plot_Similarity_env\\lib\\site-packages\\sklearn\\metrics\\cluster\\_unsupervised.py:22\u001b[0m\n\u001b[0;32m     16\u001b[0m \u001b[38;5;28;01mfrom\u001b[39;00m \u001b[38;5;21;01m.\u001b[39;00m\u001b[38;5;21;01m.\u001b[39;00m\u001b[38;5;21;01m.\u001b[39;00m\u001b[38;5;21;01mutils\u001b[39;00m \u001b[38;5;28;01mimport\u001b[39;00m _safe_indexing, check_random_state, check_X_y\n\u001b[0;32m     17\u001b[0m \u001b[38;5;28;01mfrom\u001b[39;00m \u001b[38;5;21;01m.\u001b[39;00m\u001b[38;5;21;01m.\u001b[39;00m\u001b[38;5;21;01m.\u001b[39;00m\u001b[38;5;21;01mutils\u001b[39;00m\u001b[38;5;21;01m.\u001b[39;00m\u001b[38;5;21;01m_param_validation\u001b[39;00m \u001b[38;5;28;01mimport\u001b[39;00m (\n\u001b[0;32m     18\u001b[0m     Interval,\n\u001b[0;32m     19\u001b[0m     StrOptions,\n\u001b[0;32m     20\u001b[0m     validate_params,\n\u001b[0;32m     21\u001b[0m )\n\u001b[1;32m---> 22\u001b[0m \u001b[38;5;28;01mfrom\u001b[39;00m \u001b[38;5;21;01m.\u001b[39;00m\u001b[38;5;21;01m.\u001b[39;00m\u001b[38;5;21;01mpairwise\u001b[39;00m \u001b[38;5;28;01mimport\u001b[39;00m _VALID_METRICS, pairwise_distances, pairwise_distances_chunked\n\u001b[0;32m     25\u001b[0m \u001b[38;5;28;01mdef\u001b[39;00m \u001b[38;5;21mcheck_number_of_labels\u001b[39m(n_labels, n_samples):\n\u001b[0;32m     26\u001b[0m \u001b[38;5;250m    \u001b[39m\u001b[38;5;124;03m\"\"\"Check that number of labels are valid.\u001b[39;00m\n\u001b[0;32m     27\u001b[0m \n\u001b[0;32m     28\u001b[0m \u001b[38;5;124;03m    Parameters\u001b[39;00m\n\u001b[1;32m   (...)\u001b[0m\n\u001b[0;32m     34\u001b[0m \u001b[38;5;124;03m        Number of samples.\u001b[39;00m\n\u001b[0;32m     35\u001b[0m \u001b[38;5;124;03m    \"\"\"\u001b[39;00m\n",
      "File \u001b[1;32mc:\\Users\\princ\\Documents\\Machine Learning Projects\\Summer 24\\Natural Language Processing\\Movie Plot Similarity using IMDB dataset\\movie_Plot_Similarity_env\\lib\\site-packages\\sklearn\\metrics\\pairwise.py:44\u001b[0m\n\u001b[0;32m     42\u001b[0m \u001b[38;5;28;01mfrom\u001b[39;00m \u001b[38;5;21;01m.\u001b[39;00m\u001b[38;5;21;01m.\u001b[39;00m\u001b[38;5;21;01mutils\u001b[39;00m\u001b[38;5;21;01m.\u001b[39;00m\u001b[38;5;21;01mparallel\u001b[39;00m \u001b[38;5;28;01mimport\u001b[39;00m Parallel, delayed\n\u001b[0;32m     43\u001b[0m \u001b[38;5;28;01mfrom\u001b[39;00m \u001b[38;5;21;01m.\u001b[39;00m\u001b[38;5;21;01m.\u001b[39;00m\u001b[38;5;21;01mutils\u001b[39;00m\u001b[38;5;21;01m.\u001b[39;00m\u001b[38;5;21;01mvalidation\u001b[39;00m \u001b[38;5;28;01mimport\u001b[39;00m _num_samples, check_non_negative\n\u001b[1;32m---> 44\u001b[0m \u001b[38;5;28;01mfrom\u001b[39;00m \u001b[38;5;21;01m.\u001b[39;00m\u001b[38;5;21;01m_pairwise_distances_reduction\u001b[39;00m \u001b[38;5;28;01mimport\u001b[39;00m ArgKmin\n\u001b[0;32m     45\u001b[0m \u001b[38;5;28;01mfrom\u001b[39;00m \u001b[38;5;21;01m.\u001b[39;00m\u001b[38;5;21;01m_pairwise_fast\u001b[39;00m \u001b[38;5;28;01mimport\u001b[39;00m _chi2_kernel_fast, _sparse_manhattan\n\u001b[0;32m     48\u001b[0m \u001b[38;5;66;03m# Utility Functions\u001b[39;00m\n",
      "File \u001b[1;32mc:\\Users\\princ\\Documents\\Machine Learning Projects\\Summer 24\\Natural Language Processing\\Movie Plot Similarity using IMDB dataset\\movie_Plot_Similarity_env\\lib\\site-packages\\sklearn\\metrics\\_pairwise_distances_reduction\\__init__.py:89\u001b[0m\n\u001b[0;32m      1\u001b[0m \u001b[38;5;66;03m# Pairwise Distances Reductions\u001b[39;00m\n\u001b[0;32m      2\u001b[0m \u001b[38;5;66;03m# =============================\u001b[39;00m\n\u001b[0;32m      3\u001b[0m \u001b[38;5;66;03m#\u001b[39;00m\n\u001b[1;32m   (...)\u001b[0m\n\u001b[0;32m     85\u001b[0m \u001b[38;5;66;03m#    using Generalized Matrix Multiplication over `float64` data (see the\u001b[39;00m\n\u001b[0;32m     86\u001b[0m \u001b[38;5;66;03m#    docstring of :class:`GEMMTermComputer64` for details).\u001b[39;00m\n\u001b[1;32m---> 89\u001b[0m \u001b[38;5;28;01mfrom\u001b[39;00m \u001b[38;5;21;01m.\u001b[39;00m\u001b[38;5;21;01m_dispatcher\u001b[39;00m \u001b[38;5;28;01mimport\u001b[39;00m (\n\u001b[0;32m     90\u001b[0m     ArgKmin,\n\u001b[0;32m     91\u001b[0m     ArgKminClassMode,\n\u001b[0;32m     92\u001b[0m     BaseDistancesReductionDispatcher,\n\u001b[0;32m     93\u001b[0m     RadiusNeighbors,\n\u001b[0;32m     94\u001b[0m     sqeuclidean_row_norms,\n\u001b[0;32m     95\u001b[0m )\n\u001b[0;32m     97\u001b[0m __all__ \u001b[38;5;241m=\u001b[39m [\n\u001b[0;32m     98\u001b[0m     \u001b[38;5;124m\"\u001b[39m\u001b[38;5;124mBaseDistancesReductionDispatcher\u001b[39m\u001b[38;5;124m\"\u001b[39m,\n\u001b[0;32m     99\u001b[0m     \u001b[38;5;124m\"\u001b[39m\u001b[38;5;124mArgKmin\u001b[39m\u001b[38;5;124m\"\u001b[39m,\n\u001b[1;32m   (...)\u001b[0m\n\u001b[0;32m    102\u001b[0m     \u001b[38;5;124m\"\u001b[39m\u001b[38;5;124msqeuclidean_row_norms\u001b[39m\u001b[38;5;124m\"\u001b[39m,\n\u001b[0;32m    103\u001b[0m ]\n",
      "File \u001b[1;32mc:\\Users\\princ\\Documents\\Machine Learning Projects\\Summer 24\\Natural Language Processing\\Movie Plot Similarity using IMDB dataset\\movie_Plot_Similarity_env\\lib\\site-packages\\sklearn\\metrics\\_pairwise_distances_reduction\\_dispatcher.py:9\u001b[0m\n\u001b[0;32m      7\u001b[0m \u001b[38;5;28;01mfrom\u001b[39;00m \u001b[38;5;21;01m.\u001b[39;00m\u001b[38;5;21;01m.\u001b[39;00m\u001b[38;5;21;01m.\u001b[39;00m \u001b[38;5;28;01mimport\u001b[39;00m get_config\n\u001b[0;32m      8\u001b[0m \u001b[38;5;28;01mfrom\u001b[39;00m \u001b[38;5;21;01m.\u001b[39;00m\u001b[38;5;21;01m.\u001b[39;00m\u001b[38;5;21;01m_dist_metrics\u001b[39;00m \u001b[38;5;28;01mimport\u001b[39;00m BOOL_METRICS, METRIC_MAPPING64\n\u001b[1;32m----> 9\u001b[0m \u001b[38;5;28;01mfrom\u001b[39;00m \u001b[38;5;21;01m.\u001b[39;00m\u001b[38;5;21;01m_argkmin\u001b[39;00m \u001b[38;5;28;01mimport\u001b[39;00m (\n\u001b[0;32m     10\u001b[0m     ArgKmin32,\n\u001b[0;32m     11\u001b[0m     ArgKmin64,\n\u001b[0;32m     12\u001b[0m )\n\u001b[0;32m     13\u001b[0m \u001b[38;5;28;01mfrom\u001b[39;00m \u001b[38;5;21;01m.\u001b[39;00m\u001b[38;5;21;01m_argkmin_classmode\u001b[39;00m \u001b[38;5;28;01mimport\u001b[39;00m (\n\u001b[0;32m     14\u001b[0m     ArgKminClassMode32,\n\u001b[0;32m     15\u001b[0m     ArgKminClassMode64,\n\u001b[0;32m     16\u001b[0m )\n\u001b[0;32m     17\u001b[0m \u001b[38;5;28;01mfrom\u001b[39;00m \u001b[38;5;21;01m.\u001b[39;00m\u001b[38;5;21;01m_base\u001b[39;00m \u001b[38;5;28;01mimport\u001b[39;00m _sqeuclidean_row_norms32, _sqeuclidean_row_norms64\n",
      "File \u001b[1;32msklearn\\metrics\\_pairwise_distances_reduction\\_argkmin.pyx:1\u001b[0m, in \u001b[0;36minit sklearn.metrics._pairwise_distances_reduction._argkmin\u001b[1;34m()\u001b[0m\n",
      "File \u001b[1;32msklearn\\metrics\\_pairwise_distances_reduction\\_base.pyx:1\u001b[0m, in \u001b[0;36minit sklearn.metrics._pairwise_distances_reduction._base\u001b[1;34m()\u001b[0m\n",
      "\u001b[1;31mImportError\u001b[0m: DLL load failed while importing _datasets_pair: The filename or extension is too long."
     ]
    }
   ],
   "source": [
    "from sklearn.cluster import KMeans\n",
    "\n",
    "km = KMeans( n_clusters = 5 )\n",
    "\n",
    "km.fit( tfidf_matrix )\n",
    "\n",
    "clusters = km.labels_.tolist()\n",
    "\n",
    "movie_df['cluster'] = clusters\n",
    "\n",
    "movie_df['cluster'].value_counts()"
   ]
  },
  {
   "cell_type": "markdown",
   "metadata": {},
   "source": [
    "Find the Similarity Difference"
   ]
  },
  {
   "cell_type": "code",
   "execution_count": null,
   "metadata": {},
   "outputs": [],
   "source": [
    "from sklearn.metrics.pairwise import cosine_similarity\n",
    "\n",
    "similarity_distance = 1 - cos"
   ]
  },
  {
   "cell_type": "code",
   "execution_count": null,
   "metadata": {},
   "outputs": [],
   "source": [
    "Step 6: Plot the dendogram"
   ]
  }
 ],
 "metadata": {
  "kernelspec": {
   "display_name": "movie_Plot_Similarity_env",
   "language": "python",
   "name": "python3"
  },
  "language_info": {
   "codemirror_mode": {
    "name": "ipython",
    "version": 3
   },
   "file_extension": ".py",
   "mimetype": "text/x-python",
   "name": "python",
   "nbconvert_exporter": "python",
   "pygments_lexer": "ipython3",
   "version": "3.8.3"
  }
 },
 "nbformat": 4,
 "nbformat_minor": 2
}
