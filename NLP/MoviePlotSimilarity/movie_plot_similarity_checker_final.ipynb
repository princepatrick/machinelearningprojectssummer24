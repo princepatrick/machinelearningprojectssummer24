{
 "cells": [
  {
   "cell_type": "markdown",
   "metadata": {},
   "source": [
    "Step 1: Importing the libraries"
   ]
  },
  {
   "cell_type": "code",
   "execution_count": 18,
   "metadata": {},
   "outputs": [
    {
     "name": "stderr",
     "output_type": "stream",
     "text": [
      "[nltk_data] Downloading package punkt to\n",
      "[nltk_data]     C:\\Users\\princ\\AppData\\Roaming\\nltk_data...\n",
      "[nltk_data]   Package punkt is already up-to-date!\n",
      "[nltk_data] Downloading package averaged_perceptron_tagger to\n",
      "[nltk_data]     C:\\Users\\princ\\AppData\\Roaming\\nltk_data...\n",
      "[nltk_data]   Package averaged_perceptron_tagger is already up-to-\n",
      "[nltk_data]       date!\n",
      "[nltk_data] Downloading package stopwords to\n",
      "[nltk_data]     C:\\Users\\princ\\AppData\\Roaming\\nltk_data...\n",
      "[nltk_data]   Package stopwords is already up-to-date!\n"
     ]
    },
    {
     "data": {
      "text/plain": [
       "True"
      ]
     },
     "execution_count": 18,
     "metadata": {},
     "output_type": "execute_result"
    }
   ],
   "source": [
    "#Importing the libraries\n",
    "import pandas as pd \n",
    "import numpy as np \n",
    "import nltk\n",
    "from nltk.corpus import stopwords\n",
    "from nltk.stem import PorterStemmer\n",
    "from nltk.tokenize import sent_tokenize\n",
    "from nltk.tokenize import word_tokenize\n",
    "\n",
    "nltk.download('punkt')\n",
    "nltk.download('averaged_perceptron_tagger')\n",
    "from nltk import pos_tag\n",
    "\n",
    "nltk.download('stopwords')"
   ]
  },
  {
   "cell_type": "markdown",
   "metadata": {},
   "source": [
    "Step 2: Load the dataset"
   ]
  },
  {
   "cell_type": "code",
   "execution_count": 2,
   "metadata": {},
   "outputs": [],
   "source": [
    "#Loading the dataset\n",
    "movie_df = pd.read_csv(\"C:\\\\Users\\\\princ\\\\Documents\\\\Machine Learning Projects\\\\Summer 24\\\\Natural Language Processing\\\\Movie Plot Similarity using IMDB dataset\\\\wiki_movie_plots_deduped.csv\")"
   ]
  },
  {
   "cell_type": "markdown",
   "metadata": {},
   "source": [
    "Step 3: Preprocess the data"
   ]
  },
  {
   "cell_type": "code",
   "execution_count": 3,
   "metadata": {},
   "outputs": [
    {
     "data": {
      "text/html": [
       "<div>\n",
       "<style scoped>\n",
       "    .dataframe tbody tr th:only-of-type {\n",
       "        vertical-align: middle;\n",
       "    }\n",
       "\n",
       "    .dataframe tbody tr th {\n",
       "        vertical-align: top;\n",
       "    }\n",
       "\n",
       "    .dataframe thead th {\n",
       "        text-align: right;\n",
       "    }\n",
       "</style>\n",
       "<table border=\"1\" class=\"dataframe\">\n",
       "  <thead>\n",
       "    <tr style=\"text-align: right;\">\n",
       "      <th></th>\n",
       "      <th>Release Year</th>\n",
       "      <th>Title</th>\n",
       "      <th>Origin/Ethnicity</th>\n",
       "      <th>Director</th>\n",
       "      <th>Cast</th>\n",
       "      <th>Genre</th>\n",
       "      <th>Wiki Page</th>\n",
       "      <th>Plot</th>\n",
       "    </tr>\n",
       "  </thead>\n",
       "  <tbody>\n",
       "    <tr>\n",
       "      <th>0</th>\n",
       "      <td>1901</td>\n",
       "      <td>Kansas Saloon Smashers</td>\n",
       "      <td>American</td>\n",
       "      <td>Unknown</td>\n",
       "      <td>NaN</td>\n",
       "      <td>unknown</td>\n",
       "      <td>https://en.wikipedia.org/wiki/Kansas_Saloon_Sm...</td>\n",
       "      <td>A bartender is working at a saloon, serving dr...</td>\n",
       "    </tr>\n",
       "    <tr>\n",
       "      <th>1</th>\n",
       "      <td>1901</td>\n",
       "      <td>Love by the Light of the Moon</td>\n",
       "      <td>American</td>\n",
       "      <td>Unknown</td>\n",
       "      <td>NaN</td>\n",
       "      <td>unknown</td>\n",
       "      <td>https://en.wikipedia.org/wiki/Love_by_the_Ligh...</td>\n",
       "      <td>The moon, painted with a smiling face hangs ov...</td>\n",
       "    </tr>\n",
       "    <tr>\n",
       "      <th>2</th>\n",
       "      <td>1901</td>\n",
       "      <td>The Martyred Presidents</td>\n",
       "      <td>American</td>\n",
       "      <td>Unknown</td>\n",
       "      <td>NaN</td>\n",
       "      <td>unknown</td>\n",
       "      <td>https://en.wikipedia.org/wiki/The_Martyred_Pre...</td>\n",
       "      <td>The film, just over a minute long, is composed...</td>\n",
       "    </tr>\n",
       "    <tr>\n",
       "      <th>3</th>\n",
       "      <td>1901</td>\n",
       "      <td>Terrible Teddy, the Grizzly King</td>\n",
       "      <td>American</td>\n",
       "      <td>Unknown</td>\n",
       "      <td>NaN</td>\n",
       "      <td>unknown</td>\n",
       "      <td>https://en.wikipedia.org/wiki/Terrible_Teddy,_...</td>\n",
       "      <td>Lasting just 61 seconds and consisting of two ...</td>\n",
       "    </tr>\n",
       "    <tr>\n",
       "      <th>4</th>\n",
       "      <td>1902</td>\n",
       "      <td>Jack and the Beanstalk</td>\n",
       "      <td>American</td>\n",
       "      <td>George S. Fleming, Edwin S. Porter</td>\n",
       "      <td>NaN</td>\n",
       "      <td>unknown</td>\n",
       "      <td>https://en.wikipedia.org/wiki/Jack_and_the_Bea...</td>\n",
       "      <td>The earliest known adaptation of the classic f...</td>\n",
       "    </tr>\n",
       "  </tbody>\n",
       "</table>\n",
       "</div>"
      ],
      "text/plain": [
       "   Release Year                             Title Origin/Ethnicity  \\\n",
       "0          1901            Kansas Saloon Smashers         American   \n",
       "1          1901     Love by the Light of the Moon         American   \n",
       "2          1901           The Martyred Presidents         American   \n",
       "3          1901  Terrible Teddy, the Grizzly King         American   \n",
       "4          1902            Jack and the Beanstalk         American   \n",
       "\n",
       "                             Director Cast    Genre  \\\n",
       "0                             Unknown  NaN  unknown   \n",
       "1                             Unknown  NaN  unknown   \n",
       "2                             Unknown  NaN  unknown   \n",
       "3                             Unknown  NaN  unknown   \n",
       "4  George S. Fleming, Edwin S. Porter  NaN  unknown   \n",
       "\n",
       "                                           Wiki Page  \\\n",
       "0  https://en.wikipedia.org/wiki/Kansas_Saloon_Sm...   \n",
       "1  https://en.wikipedia.org/wiki/Love_by_the_Ligh...   \n",
       "2  https://en.wikipedia.org/wiki/The_Martyred_Pre...   \n",
       "3  https://en.wikipedia.org/wiki/Terrible_Teddy,_...   \n",
       "4  https://en.wikipedia.org/wiki/Jack_and_the_Bea...   \n",
       "\n",
       "                                                Plot  \n",
       "0  A bartender is working at a saloon, serving dr...  \n",
       "1  The moon, painted with a smiling face hangs ov...  \n",
       "2  The film, just over a minute long, is composed...  \n",
       "3  Lasting just 61 seconds and consisting of two ...  \n",
       "4  The earliest known adaptation of the classic f...  "
      ]
     },
     "execution_count": 3,
     "metadata": {},
     "output_type": "execute_result"
    }
   ],
   "source": [
    "#Displaying the top 5 records\n",
    "movie_df.head(5)"
   ]
  },
  {
   "cell_type": "code",
   "execution_count": 4,
   "metadata": {},
   "outputs": [],
   "source": [
    "#Picking only the most recent record to reduce the size and complexity of the dataset\n",
    "movie_df = movie_df[ movie_df['Release Year'] >= 2017 ].reset_index()"
   ]
  },
  {
   "cell_type": "code",
   "execution_count": 5,
   "metadata": {},
   "outputs": [
    {
     "data": {
      "text/html": [
       "<div>\n",
       "<style scoped>\n",
       "    .dataframe tbody tr th:only-of-type {\n",
       "        vertical-align: middle;\n",
       "    }\n",
       "\n",
       "    .dataframe tbody tr th {\n",
       "        vertical-align: top;\n",
       "    }\n",
       "\n",
       "    .dataframe thead th {\n",
       "        text-align: right;\n",
       "    }\n",
       "</style>\n",
       "<table border=\"1\" class=\"dataframe\">\n",
       "  <thead>\n",
       "    <tr style=\"text-align: right;\">\n",
       "      <th></th>\n",
       "      <th>index</th>\n",
       "      <th>Release Year</th>\n",
       "      <th>Title</th>\n",
       "      <th>Origin/Ethnicity</th>\n",
       "      <th>Director</th>\n",
       "      <th>Cast</th>\n",
       "      <th>Genre</th>\n",
       "      <th>Wiki Page</th>\n",
       "      <th>Plot</th>\n",
       "    </tr>\n",
       "  </thead>\n",
       "  <tbody>\n",
       "    <tr>\n",
       "      <th>0</th>\n",
       "      <td>17164</td>\n",
       "      <td>2017</td>\n",
       "      <td>Underworld: Blood Wars</td>\n",
       "      <td>American</td>\n",
       "      <td>Anna Foerster</td>\n",
       "      <td>Anna Foerster (director); Cory Goodman (screen...</td>\n",
       "      <td>action, horror</td>\n",
       "      <td>https://en.wikipedia.org/wiki/Underworld:_Bloo...</td>\n",
       "      <td>The remaining vampire covens are on the verge ...</td>\n",
       "    </tr>\n",
       "    <tr>\n",
       "      <th>1</th>\n",
       "      <td>17165</td>\n",
       "      <td>2017</td>\n",
       "      <td>Monster Trucks</td>\n",
       "      <td>American</td>\n",
       "      <td>Chris Wedge</td>\n",
       "      <td>Chris Wedge (director); Jonathan Aibel, Glenn ...</td>\n",
       "      <td>animation, adventure, sci-fi</td>\n",
       "      <td>https://en.wikipedia.org/wiki/Monster_Trucks_(...</td>\n",
       "      <td>Terravex Oil is in the midst of a fracking ope...</td>\n",
       "    </tr>\n",
       "    <tr>\n",
       "      <th>2</th>\n",
       "      <td>17166</td>\n",
       "      <td>2017</td>\n",
       "      <td>The Bye Bye Man</td>\n",
       "      <td>American</td>\n",
       "      <td>Stacy Title</td>\n",
       "      <td>Stacy Title (director); Jonathan Penner (scree...</td>\n",
       "      <td>horror</td>\n",
       "      <td>https://en.wikipedia.org/wiki/The_Bye_Bye_Man</td>\n",
       "      <td>In 1969, a mass murder occurs in which a man k...</td>\n",
       "    </tr>\n",
       "    <tr>\n",
       "      <th>3</th>\n",
       "      <td>17167</td>\n",
       "      <td>2017</td>\n",
       "      <td>Sleepless</td>\n",
       "      <td>American</td>\n",
       "      <td>Baran bo Odar</td>\n",
       "      <td>Baran bo Odar (director); Andrea Berloff (scre...</td>\n",
       "      <td>action, thriller</td>\n",
       "      <td>https://en.wikipedia.org/wiki/Sleepless_(2017_...</td>\n",
       "      <td>In Las Vegas, vice LVMPD policemen Vincent Dow...</td>\n",
       "    </tr>\n",
       "    <tr>\n",
       "      <th>4</th>\n",
       "      <td>17168</td>\n",
       "      <td>2017</td>\n",
       "      <td>100 Streets</td>\n",
       "      <td>American</td>\n",
       "      <td>Jim O'Hanlon</td>\n",
       "      <td>Jim O'Hanlon (director); Leon F. Butler (scree...</td>\n",
       "      <td>drama</td>\n",
       "      <td>https://en.wikipedia.org/wiki/100_Streets</td>\n",
       "      <td>The film centers on three characters who have ...</td>\n",
       "    </tr>\n",
       "  </tbody>\n",
       "</table>\n",
       "</div>"
      ],
      "text/plain": [
       "   index  Release Year                   Title Origin/Ethnicity  \\\n",
       "0  17164          2017  Underworld: Blood Wars         American   \n",
       "1  17165          2017          Monster Trucks         American   \n",
       "2  17166          2017         The Bye Bye Man         American   \n",
       "3  17167          2017               Sleepless         American   \n",
       "4  17168          2017             100 Streets         American   \n",
       "\n",
       "        Director                                               Cast  \\\n",
       "0  Anna Foerster  Anna Foerster (director); Cory Goodman (screen...   \n",
       "1    Chris Wedge  Chris Wedge (director); Jonathan Aibel, Glenn ...   \n",
       "2    Stacy Title  Stacy Title (director); Jonathan Penner (scree...   \n",
       "3  Baran bo Odar  Baran bo Odar (director); Andrea Berloff (scre...   \n",
       "4   Jim O'Hanlon  Jim O'Hanlon (director); Leon F. Butler (scree...   \n",
       "\n",
       "                          Genre  \\\n",
       "0                action, horror   \n",
       "1  animation, adventure, sci-fi   \n",
       "2                        horror   \n",
       "3              action, thriller   \n",
       "4                         drama   \n",
       "\n",
       "                                           Wiki Page  \\\n",
       "0  https://en.wikipedia.org/wiki/Underworld:_Bloo...   \n",
       "1  https://en.wikipedia.org/wiki/Monster_Trucks_(...   \n",
       "2      https://en.wikipedia.org/wiki/The_Bye_Bye_Man   \n",
       "3  https://en.wikipedia.org/wiki/Sleepless_(2017_...   \n",
       "4          https://en.wikipedia.org/wiki/100_Streets   \n",
       "\n",
       "                                                Plot  \n",
       "0  The remaining vampire covens are on the verge ...  \n",
       "1  Terravex Oil is in the midst of a fracking ope...  \n",
       "2  In 1969, a mass murder occurs in which a man k...  \n",
       "3  In Las Vegas, vice LVMPD policemen Vincent Dow...  \n",
       "4  The film centers on three characters who have ...  "
      ]
     },
     "execution_count": 5,
     "metadata": {},
     "output_type": "execute_result"
    }
   ],
   "source": [
    "#Displaying the top 5 records again to see if the year is changed and index is reset\n",
    "movie_df.head(5)"
   ]
  },
  {
   "cell_type": "code",
   "execution_count": 7,
   "metadata": {},
   "outputs": [],
   "source": [
    "#All the preprocessing - Removal of numbers from the word, Removal of stopwords, Stemming the word, \n",
    "def isAlpha( word ):\n",
    "    for character in word:\n",
    "        if character.isdigit():\n",
    "            return False\n",
    "    \n",
    "    return True\n",
    "\n",
    "def remove_numbers( plot ):\n",
    "    words = plot.split()\n",
    "\n",
    "    number_check_regex = [ word for word in words if isAlpha( word ) ]\n",
    "\n",
    "    return \" \".join(number_check_regex)\n",
    "\n",
    "def remove_stopwords( plot ):\n",
    "    words = plot.split()\n",
    "\n",
    "    ans = [ word for word in words if word not in stopwords.words('english') ]\n",
    "\n",
    "    return \" \".join(ans)\n"
   ]
  },
  {
   "cell_type": "code",
   "execution_count": 8,
   "metadata": {},
   "outputs": [
    {
     "data": {
      "text/plain": [
       "'My life awesome I living dream'"
      ]
     },
     "execution_count": 8,
     "metadata": {},
     "output_type": "execute_result"
    }
   ],
   "source": [
    "#Testing the functionality of the preprocessing function\n",
    "print(remove_numbers(\"Prince i2s a goo0d boy\"))\n",
    "print(isAlpha( \"Prin3ce\" ))\n",
    "print(remove_stopwords(\" My life is awesome and I am living my dream \"))"
   ]
  },
  {
   "cell_type": "code",
   "execution_count": 12,
   "metadata": {},
   "outputs": [],
   "source": [
    "#Stemming the data\n",
    "def stem( plot ):\n",
    "\n",
    "    sentences = sent_tokenize( plot )\n",
    "\n",
    "    stemmed_words = []\n",
    "\n",
    "    for sentence in sentences:\n",
    "        words = word_tokenize( sentence )\n",
    "        pos_tags = pos_tag(words)\n",
    "\n",
    "        for word, pos in pos_tags:\n",
    "            # print(f\"{word} -> {pos}\")   \n",
    "            # if pos == 'NN':\n",
    "            stemmed_words.append( word )\n",
    "\n",
    "\n",
    "    return \" \".join(stemmed_words)"
   ]
  },
  {
   "cell_type": "code",
   "execution_count": 9,
   "metadata": {},
   "outputs": [],
   "source": [
    "#Initializing the PorterStemmer()\n",
    "stemmer = PorterStemmer()"
   ]
  },
  {
   "cell_type": "code",
   "execution_count": 10,
   "metadata": {},
   "outputs": [],
   "source": [
    "#The main preprocessing function that calls the other functionalities\n",
    "def preprocess( plot ):\n",
    "\n",
    "    plot = remove_numbers( plot )\n",
    "    plot = remove_stopwords( plot )\n",
    "    plot = stem( plot )\n",
    "\n",
    "    return plot   \n"
   ]
  },
  {
   "cell_type": "code",
   "execution_count": 13,
   "metadata": {},
   "outputs": [
    {
     "data": {
      "text/plain": [
       "'Lets try party till morning . Since know long stay here .'"
      ]
     },
     "execution_count": 13,
     "metadata": {},
     "output_type": "execute_result"
    }
   ],
   "source": [
    "#A testing run to check the preprocess()\n",
    "preprocess(\"Lets try to party till morning. Since we do not know how long we will stay here.\")"
   ]
  },
  {
   "cell_type": "code",
   "execution_count": 14,
   "metadata": {},
   "outputs": [
    {
     "name": "stderr",
     "output_type": "stream",
     "text": [
      "C:\\Users\\princ\\AppData\\Local\\Temp\\ipykernel_38284\\4169354995.py:4: SettingWithCopyWarning: \n",
      "A value is trying to be set on a copy of a slice from a DataFrame\n",
      "\n",
      "See the caveats in the documentation: https://pandas.pydata.org/pandas-docs/stable/user_guide/indexing.html#returning-a-view-versus-a-copy\n",
      "  movie_df.loc[i]['Plot'] = preprocess( plot )\n"
     ]
    }
   ],
   "source": [
    "#The funciton where the preprocessing is called for the dataset\n",
    "i = 0\n",
    "while i < len(movie_df):\n",
    "    plot = movie_df['Plot'][i]\n",
    "    movie_df.loc[i]['Plot'] = preprocess( plot )\n",
    "    i += 1\n",
    "    "
   ]
  },
  {
   "cell_type": "markdown",
   "metadata": {},
   "source": [
    "Step 4: Extracting the features using TfidfVectorizer"
   ]
  },
  {
   "cell_type": "code",
   "execution_count": 15,
   "metadata": {},
   "outputs": [],
   "source": [
    "#Initializing and calling the TfIdfVectorizer() \n",
    "from sklearn.feature_extraction.text import TfidfVectorizer\n",
    "\n",
    "tfidf_vectorizer = TfidfVectorizer( max_df=0.8, min_df=0.2, max_features=800000, use_idf=True, ngram_range=(1,3) )\n",
    "\n",
    "tfidf_matrix = tfidf_vectorizer.fit_transform( [ plot for plot in movie_df['Plot'] ] )"
   ]
  },
  {
   "cell_type": "code",
   "execution_count": 16,
   "metadata": {},
   "outputs": [
    {
     "data": {
      "text/plain": [
       "<805x175 sparse matrix of type '<class 'numpy.float64'>'\n",
       "\twith 48743 stored elements in Compressed Sparse Row format>"
      ]
     },
     "execution_count": 16,
     "metadata": {},
     "output_type": "execute_result"
    }
   ],
   "source": [
    "#Displaying the Tfidf Matrix\n",
    "tfidf_matrix"
   ]
  },
  {
   "cell_type": "markdown",
   "metadata": {},
   "source": [
    "Step 5: Clustering the Records"
   ]
  },
  {
   "cell_type": "code",
   "execution_count": 17,
   "metadata": {},
   "outputs": [
    {
     "data": {
      "text/plain": [
       "cluster\n",
       "1    240\n",
       "2    192\n",
       "3    161\n",
       "0    128\n",
       "4     84\n",
       "Name: count, dtype: int64"
      ]
     },
     "execution_count": 17,
     "metadata": {},
     "output_type": "execute_result"
    }
   ],
   "source": [
    "#Clustering the dataset\n",
    "from sklearn.cluster import KMeans\n",
    "\n",
    "km = KMeans( n_clusters = 5 )\n",
    "\n",
    "km.fit( tfidf_matrix )\n",
    "\n",
    "clusters = km.labels_.tolist()\n",
    "\n",
    "movie_df['cluster'] = clusters\n",
    "\n",
    "movie_df['cluster'].value_counts()"
   ]
  }
 ],
 "metadata": {
  "kernelspec": {
   "display_name": "Python 3",
   "language": "python",
   "name": "python3"
  },
  "language_info": {
   "codemirror_mode": {
    "name": "ipython",
    "version": 3
   },
   "file_extension": ".py",
   "mimetype": "text/x-python",
   "name": "python",
   "nbconvert_exporter": "python",
   "pygments_lexer": "ipython3",
   "version": "3.11.5"
  }
 },
 "nbformat": 4,
 "nbformat_minor": 2
}
